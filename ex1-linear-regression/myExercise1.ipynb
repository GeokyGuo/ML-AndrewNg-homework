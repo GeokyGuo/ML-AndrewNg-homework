{
 "cells": [
  {
   "cell_type": "markdown",
   "metadata": {},
   "source": [
    "数学中的向量默认是列向量，所以转置后变成行向量\n",
    "机器中的是数组，思维默认是行向量，所以转置后变成列向量\n",
    "\n",
    "内积肯定是 行*列\n",
    "\n",
    "Xtheta.T  X决定了行数，theta决定了最后的列数"
   ]
  }
 ],
 "metadata": {
  "kernelspec": {
   "display_name": "py37",
   "language": "python",
   "name": "py37"
  },
  "language_info": {
   "codemirror_mode": {
    "name": "ipython",
    "version": 3
   },
   "file_extension": ".py",
   "mimetype": "text/x-python",
   "name": "python",
   "nbconvert_exporter": "python",
   "pygments_lexer": "ipython3",
   "version": "3.7.4"
  }
 },
 "nbformat": 4,
 "nbformat_minor": 2
}
